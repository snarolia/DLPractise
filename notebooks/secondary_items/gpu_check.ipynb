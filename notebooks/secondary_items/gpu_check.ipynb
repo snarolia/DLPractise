{
 "cells": [
  {
   "cell_type": "code",
   "execution_count": 1,
   "id": "e2b7022d",
   "metadata": {},
   "outputs": [
    {
     "name": "stdout",
     "output_type": "stream",
     "text": [
      "True\n",
      "True\n"
     ]
    }
   ],
   "source": [
    "import torch\n",
    "\n",
    "# Check if MPS is available\n",
    "print(torch.backends.mps.is_available())  # True if GPU can be used\n",
    "print(torch.backends.mps.is_built())      # True if PyTorch has MPS support\n"
   ]
  },
  {
   "cell_type": "code",
   "execution_count": 2,
   "id": "5bba4192",
   "metadata": {},
   "outputs": [
    {
     "data": {
      "text/plain": [
       "True"
      ]
     },
     "execution_count": 2,
     "metadata": {},
     "output_type": "execute_result"
    }
   ],
   "source": [
    "torch.backends.mps.is_available()"
   ]
  },
  {
   "cell_type": "code",
   "execution_count": null,
   "id": "60ff5978",
   "metadata": {},
   "outputs": [],
   "source": []
  }
 ],
 "metadata": {
  "kernelspec": {
   "display_name": "DL Build",
   "language": "python",
   "name": "dlbuild"
  },
  "language_info": {
   "codemirror_mode": {
    "name": "ipython",
    "version": 3
   },
   "file_extension": ".py",
   "mimetype": "text/x-python",
   "name": "python",
   "nbconvert_exporter": "python",
   "pygments_lexer": "ipython3",
   "version": "3.13.3"
  }
 },
 "nbformat": 4,
 "nbformat_minor": 5
}
