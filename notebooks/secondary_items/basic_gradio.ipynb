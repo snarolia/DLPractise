{
 "cells": [
  {
   "cell_type": "code",
   "execution_count": 1,
   "id": "f01fe74d",
   "metadata": {},
   "outputs": [
    {
     "name": "stderr",
     "output_type": "stream",
     "text": [
      "/Users/siddharthnarolia/Projects/build/lib/python3.13/site-packages/tqdm/auto.py:21: TqdmWarning: IProgress not found. Please update jupyter and ipywidgets. See https://ipywidgets.readthedocs.io/en/stable/user_install.html\n",
      "  from .autonotebook import tqdm as notebook_tqdm\n"
     ]
    }
   ],
   "source": [
    "import gradio as gr"
   ]
  },
  {
   "cell_type": "code",
   "execution_count": 3,
   "id": "cb0f3c52",
   "metadata": {},
   "outputs": [],
   "source": [
    "def greet(name, intensity):\n",
    "    return \"Hello, \" + name + \"!\"*int(intensity)\n"
   ]
  },
  {
   "cell_type": "code",
   "execution_count": 11,
   "id": "8909d00c",
   "metadata": {},
   "outputs": [
    {
     "name": "stdout",
     "output_type": "stream",
     "text": [
      "* Running on local URL:  http://127.0.0.1:7865\n",
      "* To create a public link, set `share=True` in `launch()`.\n"
     ]
    },
    {
     "data": {
      "text/html": [
       "<div><iframe src=\"http://127.0.0.1:7865/\" width=\"100%\" height=\"500\" allow=\"autoplay; camera; microphone; clipboard-read; clipboard-write;\" frameborder=\"0\" allowfullscreen></iframe></div>"
      ],
      "text/plain": [
       "<IPython.core.display.HTML object>"
      ]
     },
     "metadata": {},
     "output_type": "display_data"
    },
    {
     "data": {
      "text/plain": []
     },
     "execution_count": 11,
     "metadata": {},
     "output_type": "execute_result"
    }
   ],
   "source": [
    "# demo = gr.Interface(\n",
    "#     fn=greet,\n",
    "#     #inputs=[\"text\", \"text\"],\n",
    "#     inputs=[\"text\", \"slider\"],\n",
    "#     outputs=[\"text\"]\n",
    "# )\n",
    "# demo.launch()\n",
    "#demo.launch(share=True) ## Launches the web app in a live URL that can be shared\n",
    "\n",
    "demo = gr.Interface(\n",
    "    fn=greet,\n",
    "    inputs=[gr.Textbox(), gr.Slider(minimum=0, maximum=100)],\n",
    "    outputs=gr.Textbox()\n",
    ")\n",
    "demo.launch()"
   ]
  },
  {
   "cell_type": "code",
   "execution_count": null,
   "id": "b7bf19fe",
   "metadata": {},
   "outputs": [],
   "source": [
    "\n"
   ]
  }
 ],
 "metadata": {
  "kernelspec": {
   "display_name": "DL Build",
   "language": "python",
   "name": "dlbuild"
  },
  "language_info": {
   "codemirror_mode": {
    "name": "ipython",
    "version": 3
   },
   "file_extension": ".py",
   "mimetype": "text/x-python",
   "name": "python",
   "nbconvert_exporter": "python",
   "pygments_lexer": "ipython3",
   "version": "3.13.3"
  }
 },
 "nbformat": 4,
 "nbformat_minor": 5
}
