{
 "cells": [
  {
   "cell_type": "code",
   "execution_count": 9,
   "id": "b93c24cf",
   "metadata": {},
   "outputs": [],
   "source": [
    "import fastai\n",
    "from ddgs import DDGS\n",
    "from fastcore.all import *\n",
    "import time\n",
    "import json"
   ]
  },
  {
   "cell_type": "code",
   "execution_count": 31,
   "id": "47545a3b",
   "metadata": {},
   "outputs": [],
   "source": [
    "def search_images(keywords, max_images=200):\n",
    "  time.sleep(10)\n",
    "  return L(DDGS().images(query=keywords, max_results=max_images)).itemgot('image')\n",
    "\n",
    "# forests = search_images(\"forests\")\n"
   ]
  },
  {
   "cell_type": "code",
   "execution_count": null,
   "id": "7b78c6bf",
   "metadata": {},
   "outputs": [],
   "source": []
  }
 ],
 "metadata": {
  "kernelspec": {
   "display_name": "DL Build",
   "language": "python",
   "name": "dlbuild"
  },
  "language_info": {
   "codemirror_mode": {
    "name": "ipython",
    "version": 3
   },
   "file_extension": ".py",
   "mimetype": "text/x-python",
   "name": "python",
   "nbconvert_exporter": "python",
   "pygments_lexer": "ipython3",
   "version": "3.13.3"
  }
 },
 "nbformat": 4,
 "nbformat_minor": 5
}
